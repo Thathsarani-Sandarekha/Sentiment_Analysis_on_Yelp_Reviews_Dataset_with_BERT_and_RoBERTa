{
 "cells": [
  {
   "cell_type": "markdown",
   "metadata": {},
   "source": [
    "Importing the necessary dependencies"
   ]
  },
  {
   "cell_type": "code",
   "execution_count": 1,
   "metadata": {},
   "outputs": [
    {
     "name": "stderr",
     "output_type": "stream",
     "text": [
      "c:\\Users\\oshen geenath\\anaconda3\\envs\\Sentiment\\lib\\site-packages\\tqdm\\auto.py:21: TqdmWarning: IProgress not found. Please update jupyter and ipywidgets. See https://ipywidgets.readthedocs.io/en/stable/user_install.html\n",
      "  from .autonotebook import tqdm as notebook_tqdm\n"
     ]
    }
   ],
   "source": [
    "import pandas as pd\n",
    "import numpy as np\n",
    "import matplotlib.pyplot as plt\n",
    "import seaborn as sns\n",
    "import time\n",
    "from tqdm import tqdm\n",
    "from sklearn.model_selection import train_test_split\n",
    "from transformers import AutoTokenizer, AutoModelForSequenceClassification\n",
    "import torch\n",
    "from torch.utils.data import DataLoader, TensorDataset\n",
    "from sklearn.metrics import accuracy_score, confusion_matrix, classification_report\n",
    "import nltk\n",
    "from nltk.corpus import stopwords\n"
   ]
  },
  {
   "cell_type": "markdown",
   "metadata": {},
   "source": [
    "Loading the dataset and reviewing it"
   ]
  },
  {
   "cell_type": "code",
   "execution_count": 2,
   "metadata": {},
   "outputs": [],
   "source": [
    "df = pd.read_csv('Shuffled_CSV.csv')"
   ]
  },
  {
   "cell_type": "code",
   "execution_count": 3,
   "metadata": {},
   "outputs": [
    {
     "data": {
      "text/html": [
       "<div>\n",
       "<style scoped>\n",
       "    .dataframe tbody tr th:only-of-type {\n",
       "        vertical-align: middle;\n",
       "    }\n",
       "\n",
       "    .dataframe tbody tr th {\n",
       "        vertical-align: top;\n",
       "    }\n",
       "\n",
       "    .dataframe thead th {\n",
       "        text-align: right;\n",
       "    }\n",
       "</style>\n",
       "<table border=\"1\" class=\"dataframe\">\n",
       "  <thead>\n",
       "    <tr style=\"text-align: right;\">\n",
       "      <th></th>\n",
       "      <th>review_id</th>\n",
       "      <th>user_id</th>\n",
       "      <th>business_id</th>\n",
       "      <th>stars</th>\n",
       "      <th>useful</th>\n",
       "      <th>funny</th>\n",
       "      <th>cool</th>\n",
       "      <th>text</th>\n",
       "      <th>date</th>\n",
       "    </tr>\n",
       "  </thead>\n",
       "  <tbody>\n",
       "    <tr>\n",
       "      <th>0</th>\n",
       "      <td>EZhsez9rcRcnz5vzdDprgQ</td>\n",
       "      <td>Jcg0KyxNMTSlOeEfI78LMA</td>\n",
       "      <td>_9Z3cuZQBOGv_XzSG4ewHA</td>\n",
       "      <td>1</td>\n",
       "      <td>5</td>\n",
       "      <td>1</td>\n",
       "      <td>0</td>\n",
       "      <td>Went this afternoon for a birthday lunch. It w...</td>\n",
       "      <td>2015-06-10 21:51:10</td>\n",
       "    </tr>\n",
       "    <tr>\n",
       "      <th>1</th>\n",
       "      <td>UASULpgxM45JQdbuAk4o2g</td>\n",
       "      <td>6s-g2vFu12OemhiK3FJuOQ</td>\n",
       "      <td>G_VpU7J9do8ZRCLIblDBZA</td>\n",
       "      <td>3</td>\n",
       "      <td>5</td>\n",
       "      <td>1</td>\n",
       "      <td>5</td>\n",
       "      <td>Located near Drexel and UPenn, Han-Wool (Korea...</td>\n",
       "      <td>2008-03-31 03:11:46</td>\n",
       "    </tr>\n",
       "    <tr>\n",
       "      <th>2</th>\n",
       "      <td>4NuztpkW80grQEdbRJ1HKw</td>\n",
       "      <td>NzmoFvh-YIXSJU8_k6jgdA</td>\n",
       "      <td>X7yGrz7oDbt8UY5rdmJc_w</td>\n",
       "      <td>5</td>\n",
       "      <td>1</td>\n",
       "      <td>0</td>\n",
       "      <td>0</td>\n",
       "      <td>This place has the best lunch buffet in the ci...</td>\n",
       "      <td>2019-03-23 23:16:18</td>\n",
       "    </tr>\n",
       "    <tr>\n",
       "      <th>3</th>\n",
       "      <td>LzQkTCQfO3DVXE52TKo6VA</td>\n",
       "      <td>u1LTgEJmd8FZmDxxrgHwGw</td>\n",
       "      <td>3iSRhLUZfZSlLaQw-BzloQ</td>\n",
       "      <td>5</td>\n",
       "      <td>0</td>\n",
       "      <td>0</td>\n",
       "      <td>0</td>\n",
       "      <td>This is by far my favorite spot in Nashville f...</td>\n",
       "      <td>2018-05-20 06:37:13</td>\n",
       "    </tr>\n",
       "    <tr>\n",
       "      <th>4</th>\n",
       "      <td>wf-W_7E6uNJmXiSiMdvPsw</td>\n",
       "      <td>Vwslifegl59fQVOe5BH1gw</td>\n",
       "      <td>RUCsFlBuA80Wc9PmYzmayQ</td>\n",
       "      <td>3</td>\n",
       "      <td>2</td>\n",
       "      <td>0</td>\n",
       "      <td>1</td>\n",
       "      <td>This round-the-corner clothing version of the ...</td>\n",
       "      <td>2011-08-25 21:55:33</td>\n",
       "    </tr>\n",
       "    <tr>\n",
       "      <th>...</th>\n",
       "      <td>...</td>\n",
       "      <td>...</td>\n",
       "      <td>...</td>\n",
       "      <td>...</td>\n",
       "      <td>...</td>\n",
       "      <td>...</td>\n",
       "      <td>...</td>\n",
       "      <td>...</td>\n",
       "      <td>...</td>\n",
       "    </tr>\n",
       "    <tr>\n",
       "      <th>74995</th>\n",
       "      <td>UniXnVymUjCW9mKoN_JKQA</td>\n",
       "      <td>_qpZgV3vrYUYvBD5MDW6oQ</td>\n",
       "      <td>rz325HFuVeo1qZgrnFw8YA</td>\n",
       "      <td>2</td>\n",
       "      <td>1</td>\n",
       "      <td>1</td>\n",
       "      <td>1</td>\n",
       "      <td>Staff is super friendly! I live by the area an...</td>\n",
       "      <td>2020-03-09 19:42:48</td>\n",
       "    </tr>\n",
       "    <tr>\n",
       "      <th>74996</th>\n",
       "      <td>0kPJptO5U5vl5gikPrqNMw</td>\n",
       "      <td>-ftREF8vomubEfe8_CdE_w</td>\n",
       "      <td>x3RBrF6nJqhPU-8MXOA27g</td>\n",
       "      <td>1</td>\n",
       "      <td>1</td>\n",
       "      <td>0</td>\n",
       "      <td>0</td>\n",
       "      <td>Patron Alert. First time ever at Peggy O'Neill...</td>\n",
       "      <td>2019-09-30 01:48:28</td>\n",
       "    </tr>\n",
       "    <tr>\n",
       "      <th>74997</th>\n",
       "      <td>RZyyNSRNoqd7SRcmM2nl5w</td>\n",
       "      <td>uXA2S9glwAFZ-boRNhkeVQ</td>\n",
       "      <td>2OXCAbz3x_MrQSYj1zarIA</td>\n",
       "      <td>1</td>\n",
       "      <td>2</td>\n",
       "      <td>1</td>\n",
       "      <td>1</td>\n",
       "      <td>Good food, TERRIBLE service. Everyone we encou...</td>\n",
       "      <td>2017-10-29 17:51:52</td>\n",
       "    </tr>\n",
       "    <tr>\n",
       "      <th>74998</th>\n",
       "      <td>DHNUXvNWGtAzMPKzutSJrw</td>\n",
       "      <td>rzRuWYc9-JOCtx2VbcxaZg</td>\n",
       "      <td>HP-GplR7ekZZpfLsupRSVA</td>\n",
       "      <td>1</td>\n",
       "      <td>2</td>\n",
       "      <td>0</td>\n",
       "      <td>0</td>\n",
       "      <td>I miss Siamese Thai so much. You can tell this...</td>\n",
       "      <td>2016-09-24 16:19:01</td>\n",
       "    </tr>\n",
       "    <tr>\n",
       "      <th>74999</th>\n",
       "      <td>-8tcsPMRFHjp0tDWrJPsAg</td>\n",
       "      <td>CAKTUNTsuyCfsSpzjGptcg</td>\n",
       "      <td>lNTXXh_vrIt705lqDlDp5A</td>\n",
       "      <td>3</td>\n",
       "      <td>1</td>\n",
       "      <td>1</td>\n",
       "      <td>0</td>\n",
       "      <td>Good bar food, best wings in St Louis.  Compla...</td>\n",
       "      <td>2016-11-23 22:55:59</td>\n",
       "    </tr>\n",
       "  </tbody>\n",
       "</table>\n",
       "<p>75000 rows × 9 columns</p>\n",
       "</div>"
      ],
      "text/plain": [
       "                    review_id                 user_id             business_id  \\\n",
       "0      EZhsez9rcRcnz5vzdDprgQ  Jcg0KyxNMTSlOeEfI78LMA  _9Z3cuZQBOGv_XzSG4ewHA   \n",
       "1      UASULpgxM45JQdbuAk4o2g  6s-g2vFu12OemhiK3FJuOQ  G_VpU7J9do8ZRCLIblDBZA   \n",
       "2      4NuztpkW80grQEdbRJ1HKw  NzmoFvh-YIXSJU8_k6jgdA  X7yGrz7oDbt8UY5rdmJc_w   \n",
       "3      LzQkTCQfO3DVXE52TKo6VA  u1LTgEJmd8FZmDxxrgHwGw  3iSRhLUZfZSlLaQw-BzloQ   \n",
       "4      wf-W_7E6uNJmXiSiMdvPsw  Vwslifegl59fQVOe5BH1gw  RUCsFlBuA80Wc9PmYzmayQ   \n",
       "...                       ...                     ...                     ...   \n",
       "74995  UniXnVymUjCW9mKoN_JKQA  _qpZgV3vrYUYvBD5MDW6oQ  rz325HFuVeo1qZgrnFw8YA   \n",
       "74996  0kPJptO5U5vl5gikPrqNMw  -ftREF8vomubEfe8_CdE_w  x3RBrF6nJqhPU-8MXOA27g   \n",
       "74997  RZyyNSRNoqd7SRcmM2nl5w  uXA2S9glwAFZ-boRNhkeVQ  2OXCAbz3x_MrQSYj1zarIA   \n",
       "74998  DHNUXvNWGtAzMPKzutSJrw  rzRuWYc9-JOCtx2VbcxaZg  HP-GplR7ekZZpfLsupRSVA   \n",
       "74999  -8tcsPMRFHjp0tDWrJPsAg  CAKTUNTsuyCfsSpzjGptcg  lNTXXh_vrIt705lqDlDp5A   \n",
       "\n",
       "       stars  useful  funny  cool  \\\n",
       "0          1       5      1     0   \n",
       "1          3       5      1     5   \n",
       "2          5       1      0     0   \n",
       "3          5       0      0     0   \n",
       "4          3       2      0     1   \n",
       "...      ...     ...    ...   ...   \n",
       "74995      2       1      1     1   \n",
       "74996      1       1      0     0   \n",
       "74997      1       2      1     1   \n",
       "74998      1       2      0     0   \n",
       "74999      3       1      1     0   \n",
       "\n",
       "                                                    text                 date  \n",
       "0      Went this afternoon for a birthday lunch. It w...  2015-06-10 21:51:10  \n",
       "1      Located near Drexel and UPenn, Han-Wool (Korea...  2008-03-31 03:11:46  \n",
       "2      This place has the best lunch buffet in the ci...  2019-03-23 23:16:18  \n",
       "3      This is by far my favorite spot in Nashville f...  2018-05-20 06:37:13  \n",
       "4      This round-the-corner clothing version of the ...  2011-08-25 21:55:33  \n",
       "...                                                  ...                  ...  \n",
       "74995  Staff is super friendly! I live by the area an...  2020-03-09 19:42:48  \n",
       "74996  Patron Alert. First time ever at Peggy O'Neill...  2019-09-30 01:48:28  \n",
       "74997  Good food, TERRIBLE service. Everyone we encou...  2017-10-29 17:51:52  \n",
       "74998  I miss Siamese Thai so much. You can tell this...  2016-09-24 16:19:01  \n",
       "74999  Good bar food, best wings in St Louis.  Compla...  2016-11-23 22:55:59  \n",
       "\n",
       "[75000 rows x 9 columns]"
      ]
     },
     "execution_count": 3,
     "metadata": {},
     "output_type": "execute_result"
    }
   ],
   "source": [
    "df"
   ]
  },
  {
   "cell_type": "code",
   "execution_count": 4,
   "metadata": {},
   "outputs": [
    {
     "name": "stdout",
     "output_type": "stream",
     "text": [
      "(500, 9)\n"
     ]
    }
   ],
   "source": [
    "print(df.shape)"
   ]
  },
  {
   "cell_type": "code",
   "execution_count": 5,
   "metadata": {},
   "outputs": [
    {
     "name": "stdout",
     "output_type": "stream",
     "text": [
      "                review_id                 user_id             business_id  \\\n",
      "0  KU_O5udG6zpxOg-VcAEodg  mh_-eMZ6K5RLWhZyISBhwA  XQfwVwDr-v0ZS3_CbbE5Xw   \n",
      "1  BiTunyQ73aT9WBnpR9DZGw  OyoGAe7OKpv6SyGZT5g77Q  7ATYjTIgM3jUlt4UM3IypQ   \n",
      "2  saUsX_uimxRlCVr67Z4Jig  8g_iMtfSiwikVnbP2etR0A  YjUWPpI6HXG530lwP-fb2A   \n",
      "3  AqPFMleE6RsU23_auESxiA  _7bHUi9Uuf5__HHc_Q8guQ  kxX2SOes4o-D3ZQBkiMRfA   \n",
      "4  Sx8TMOWLNuJBWer-0pcmoA  bcjbaE6dDog4jkNY91ncLQ  e4Vwtrqf-wpJfwesgvdgxQ   \n",
      "\n",
      "   stars  useful  funny  cool  \\\n",
      "0      3       0      0     0   \n",
      "1      5       1      0     1   \n",
      "2      3       0      0     0   \n",
      "3      5       1      0     1   \n",
      "4      4       1      0     1   \n",
      "\n",
      "                                                text                date  \n",
      "0  If you decide to eat here, just be aware it is... 2018-07-07 22:09:11  \n",
      "1  I've taken a lot of spin classes over the year... 2012-01-03 15:28:18  \n",
      "2  Family diner. Had the buffet. Eclectic assortm... 2014-02-05 20:30:30  \n",
      "3  Wow!  Yummy, different,  delicious.   Our favo... 2015-01-04 00:01:03  \n",
      "4  Cute interior and owner (?) gave us tour of up... 2017-01-14 20:54:15  \n"
     ]
    }
   ],
   "source": [
    "#Print the header\n",
    "Header = df.head(5)\n",
    "print(Header)"
   ]
  },
  {
   "cell_type": "markdown",
   "metadata": {},
   "source": [
    "Doing some EDA"
   ]
  },
  {
   "cell_type": "code",
   "execution_count": 6,
   "metadata": {},
   "outputs": [
    {
     "name": "stdout",
     "output_type": "stream",
     "text": [
      "review_id      0\n",
      "user_id        0\n",
      "business_id    0\n",
      "stars          0\n",
      "useful         0\n",
      "funny          0\n",
      "cool           0\n",
      "text           0\n",
      "date           0\n",
      "dtype: int64\n"
     ]
    }
   ],
   "source": [
    "# check for null values\n",
    "null_Values = df.isnull().sum()\n",
    "print(null_Values)"
   ]
  },
  {
   "cell_type": "code",
   "execution_count": 7,
   "metadata": {},
   "outputs": [],
   "source": [
    "#Finding the languages \n",
    "from langdetect import detect\n",
    "for i in range (len(df[\"text\"])):\n",
    "    language = detect(df['text'][i])\n",
    "    if language != 'en':\n",
    "        print(language)\n",
    "        print(df['text'][i])\n",
    "        print(i)\n",
    "        df.drop(i, inplace=True)\n",
    "        "
   ]
  },
  {
   "cell_type": "code",
   "execution_count": 8,
   "metadata": {},
   "outputs": [],
   "source": [
    "df.reset_index(drop=True, inplace=True)\n"
   ]
  },
  {
   "cell_type": "code",
   "execution_count": 9,
   "metadata": {},
   "outputs": [
    {
     "data": {
      "text/plain": [
       "\"If you decide to eat here, just be aware it is going to take about 2 hours from beginning to end. We have tried it multiple times, because I want to like it! I have been to it's other locations in NJ and never had a bad experience. \\n\\nThe food is good, but it takes a very long time to come out. The waitstaff is very young, but usually pleasant. We have just had too many experiences where we spent way too long waiting. We usually opt for another diner or restaurant on the weekends, in order to be done quicker.\""
      ]
     },
     "execution_count": 9,
     "metadata": {},
     "output_type": "execute_result"
    }
   ],
   "source": [
    "df['text'][0]"
   ]
  },
  {
   "cell_type": "code",
   "execution_count": 10,
   "metadata": {},
   "outputs": [
    {
     "data": {
      "text/html": [
       "<div>\n",
       "<style scoped>\n",
       "    .dataframe tbody tr th:only-of-type {\n",
       "        vertical-align: middle;\n",
       "    }\n",
       "\n",
       "    .dataframe tbody tr th {\n",
       "        vertical-align: top;\n",
       "    }\n",
       "\n",
       "    .dataframe thead th {\n",
       "        text-align: right;\n",
       "    }\n",
       "</style>\n",
       "<table border=\"1\" class=\"dataframe\">\n",
       "  <thead>\n",
       "    <tr style=\"text-align: right;\">\n",
       "      <th></th>\n",
       "      <th>review_id</th>\n",
       "      <th>user_id</th>\n",
       "      <th>business_id</th>\n",
       "      <th>stars</th>\n",
       "      <th>useful</th>\n",
       "      <th>funny</th>\n",
       "      <th>cool</th>\n",
       "      <th>text</th>\n",
       "      <th>date</th>\n",
       "    </tr>\n",
       "  </thead>\n",
       "  <tbody>\n",
       "    <tr>\n",
       "      <th>0</th>\n",
       "      <td>KU_O5udG6zpxOg-VcAEodg</td>\n",
       "      <td>mh_-eMZ6K5RLWhZyISBhwA</td>\n",
       "      <td>XQfwVwDr-v0ZS3_CbbE5Xw</td>\n",
       "      <td>3</td>\n",
       "      <td>0</td>\n",
       "      <td>0</td>\n",
       "      <td>0</td>\n",
       "      <td>If you decide to eat here, just be aware it is...</td>\n",
       "      <td>2018-07-07 22:09:11</td>\n",
       "    </tr>\n",
       "    <tr>\n",
       "      <th>1</th>\n",
       "      <td>BiTunyQ73aT9WBnpR9DZGw</td>\n",
       "      <td>OyoGAe7OKpv6SyGZT5g77Q</td>\n",
       "      <td>7ATYjTIgM3jUlt4UM3IypQ</td>\n",
       "      <td>5</td>\n",
       "      <td>1</td>\n",
       "      <td>0</td>\n",
       "      <td>1</td>\n",
       "      <td>I've taken a lot of spin classes over the year...</td>\n",
       "      <td>2012-01-03 15:28:18</td>\n",
       "    </tr>\n",
       "    <tr>\n",
       "      <th>2</th>\n",
       "      <td>saUsX_uimxRlCVr67Z4Jig</td>\n",
       "      <td>8g_iMtfSiwikVnbP2etR0A</td>\n",
       "      <td>YjUWPpI6HXG530lwP-fb2A</td>\n",
       "      <td>3</td>\n",
       "      <td>0</td>\n",
       "      <td>0</td>\n",
       "      <td>0</td>\n",
       "      <td>Family diner. Had the buffet. Eclectic assortm...</td>\n",
       "      <td>2014-02-05 20:30:30</td>\n",
       "    </tr>\n",
       "    <tr>\n",
       "      <th>3</th>\n",
       "      <td>AqPFMleE6RsU23_auESxiA</td>\n",
       "      <td>_7bHUi9Uuf5__HHc_Q8guQ</td>\n",
       "      <td>kxX2SOes4o-D3ZQBkiMRfA</td>\n",
       "      <td>5</td>\n",
       "      <td>1</td>\n",
       "      <td>0</td>\n",
       "      <td>1</td>\n",
       "      <td>Wow!  Yummy, different,  delicious.   Our favo...</td>\n",
       "      <td>2015-01-04 00:01:03</td>\n",
       "    </tr>\n",
       "    <tr>\n",
       "      <th>4</th>\n",
       "      <td>Sx8TMOWLNuJBWer-0pcmoA</td>\n",
       "      <td>bcjbaE6dDog4jkNY91ncLQ</td>\n",
       "      <td>e4Vwtrqf-wpJfwesgvdgxQ</td>\n",
       "      <td>4</td>\n",
       "      <td>1</td>\n",
       "      <td>0</td>\n",
       "      <td>1</td>\n",
       "      <td>Cute interior and owner (?) gave us tour of up...</td>\n",
       "      <td>2017-01-14 20:54:15</td>\n",
       "    </tr>\n",
       "    <tr>\n",
       "      <th>...</th>\n",
       "      <td>...</td>\n",
       "      <td>...</td>\n",
       "      <td>...</td>\n",
       "      <td>...</td>\n",
       "      <td>...</td>\n",
       "      <td>...</td>\n",
       "      <td>...</td>\n",
       "      <td>...</td>\n",
       "      <td>...</td>\n",
       "    </tr>\n",
       "    <tr>\n",
       "      <th>495</th>\n",
       "      <td>2DTSLWrxArBe6iNGTJhRZQ</td>\n",
       "      <td>PyYBky3iWH9Fo_bUxoYyDQ</td>\n",
       "      <td>n-iPn34tLaqnq-dI8m8Bkw</td>\n",
       "      <td>3</td>\n",
       "      <td>2</td>\n",
       "      <td>0</td>\n",
       "      <td>0</td>\n",
       "      <td>Went for a bachelorette party on a Saturday ni...</td>\n",
       "      <td>2016-04-11 17:33:05</td>\n",
       "    </tr>\n",
       "    <tr>\n",
       "      <th>496</th>\n",
       "      <td>5I7qACNaxm0PBdpgaMeQ5w</td>\n",
       "      <td>8sHWQwfi9blO7fdpHMVfsw</td>\n",
       "      <td>CjkxTRergWcYWb4SVW3gxw</td>\n",
       "      <td>5</td>\n",
       "      <td>0</td>\n",
       "      <td>0</td>\n",
       "      <td>1</td>\n",
       "      <td>Hands down best fall off the bone BBQ I've eve...</td>\n",
       "      <td>2017-06-06 19:22:05</td>\n",
       "    </tr>\n",
       "    <tr>\n",
       "      <th>497</th>\n",
       "      <td>yFV9UnuTR3wqCVRwkeYGxA</td>\n",
       "      <td>tgZ0r69ap3_-sNBgLPZsPw</td>\n",
       "      <td>C_EtrXTygRX5RTUOKtO6Dg</td>\n",
       "      <td>1</td>\n",
       "      <td>0</td>\n",
       "      <td>0</td>\n",
       "      <td>0</td>\n",
       "      <td>It's a good thing I've had a few weeks to cool...</td>\n",
       "      <td>2016-08-25 18:34:30</td>\n",
       "    </tr>\n",
       "    <tr>\n",
       "      <th>498</th>\n",
       "      <td>WZIOWWb6xVwCA2-uJ47m8Q</td>\n",
       "      <td>XeS-0ONS5uoR_OfgZQebrA</td>\n",
       "      <td>vN6v8m4DO45Z4pp8yxxF_w</td>\n",
       "      <td>5</td>\n",
       "      <td>0</td>\n",
       "      <td>0</td>\n",
       "      <td>0</td>\n",
       "      <td>Best shrimp and grits in NOLA! Delicious fresh...</td>\n",
       "      <td>2017-01-02 14:24:15</td>\n",
       "    </tr>\n",
       "    <tr>\n",
       "      <th>499</th>\n",
       "      <td>VCVG7lbohvbWQ_lUt714RQ</td>\n",
       "      <td>hWm_vdsBr8lxE_On2eQXqw</td>\n",
       "      <td>euu_JA0YFf63f75uaVSyng</td>\n",
       "      <td>5</td>\n",
       "      <td>1</td>\n",
       "      <td>0</td>\n",
       "      <td>0</td>\n",
       "      <td>Finally! A good tapas place in Nashville. Frie...</td>\n",
       "      <td>2015-07-03 19:34:47</td>\n",
       "    </tr>\n",
       "  </tbody>\n",
       "</table>\n",
       "<p>500 rows × 9 columns</p>\n",
       "</div>"
      ],
      "text/plain": [
       "                  review_id                 user_id             business_id  \\\n",
       "0    KU_O5udG6zpxOg-VcAEodg  mh_-eMZ6K5RLWhZyISBhwA  XQfwVwDr-v0ZS3_CbbE5Xw   \n",
       "1    BiTunyQ73aT9WBnpR9DZGw  OyoGAe7OKpv6SyGZT5g77Q  7ATYjTIgM3jUlt4UM3IypQ   \n",
       "2    saUsX_uimxRlCVr67Z4Jig  8g_iMtfSiwikVnbP2etR0A  YjUWPpI6HXG530lwP-fb2A   \n",
       "3    AqPFMleE6RsU23_auESxiA  _7bHUi9Uuf5__HHc_Q8guQ  kxX2SOes4o-D3ZQBkiMRfA   \n",
       "4    Sx8TMOWLNuJBWer-0pcmoA  bcjbaE6dDog4jkNY91ncLQ  e4Vwtrqf-wpJfwesgvdgxQ   \n",
       "..                      ...                     ...                     ...   \n",
       "495  2DTSLWrxArBe6iNGTJhRZQ  PyYBky3iWH9Fo_bUxoYyDQ  n-iPn34tLaqnq-dI8m8Bkw   \n",
       "496  5I7qACNaxm0PBdpgaMeQ5w  8sHWQwfi9blO7fdpHMVfsw  CjkxTRergWcYWb4SVW3gxw   \n",
       "497  yFV9UnuTR3wqCVRwkeYGxA  tgZ0r69ap3_-sNBgLPZsPw  C_EtrXTygRX5RTUOKtO6Dg   \n",
       "498  WZIOWWb6xVwCA2-uJ47m8Q  XeS-0ONS5uoR_OfgZQebrA  vN6v8m4DO45Z4pp8yxxF_w   \n",
       "499  VCVG7lbohvbWQ_lUt714RQ  hWm_vdsBr8lxE_On2eQXqw  euu_JA0YFf63f75uaVSyng   \n",
       "\n",
       "     stars  useful  funny  cool  \\\n",
       "0        3       0      0     0   \n",
       "1        5       1      0     1   \n",
       "2        3       0      0     0   \n",
       "3        5       1      0     1   \n",
       "4        4       1      0     1   \n",
       "..     ...     ...    ...   ...   \n",
       "495      3       2      0     0   \n",
       "496      5       0      0     1   \n",
       "497      1       0      0     0   \n",
       "498      5       0      0     0   \n",
       "499      5       1      0     0   \n",
       "\n",
       "                                                  text                date  \n",
       "0    If you decide to eat here, just be aware it is... 2018-07-07 22:09:11  \n",
       "1    I've taken a lot of spin classes over the year... 2012-01-03 15:28:18  \n",
       "2    Family diner. Had the buffet. Eclectic assortm... 2014-02-05 20:30:30  \n",
       "3    Wow!  Yummy, different,  delicious.   Our favo... 2015-01-04 00:01:03  \n",
       "4    Cute interior and owner (?) gave us tour of up... 2017-01-14 20:54:15  \n",
       "..                                                 ...                 ...  \n",
       "495  Went for a bachelorette party on a Saturday ni... 2016-04-11 17:33:05  \n",
       "496  Hands down best fall off the bone BBQ I've eve... 2017-06-06 19:22:05  \n",
       "497  It's a good thing I've had a few weeks to cool... 2016-08-25 18:34:30  \n",
       "498  Best shrimp and grits in NOLA! Delicious fresh... 2017-01-02 14:24:15  \n",
       "499  Finally! A good tapas place in Nashville. Frie... 2015-07-03 19:34:47  \n",
       "\n",
       "[500 rows x 9 columns]"
      ]
     },
     "execution_count": 10,
     "metadata": {},
     "output_type": "execute_result"
    }
   ],
   "source": [
    "df"
   ]
  },
  {
   "cell_type": "code",
   "execution_count": 11,
   "metadata": {},
   "outputs": [
    {
     "name": "stderr",
     "output_type": "stream",
     "text": [
      "[nltk_data] Downloading package stopwords to C:\\Users\\oshen\n",
      "[nltk_data]     geenath\\AppData\\Roaming\\nltk_data...\n",
      "[nltk_data]   Package stopwords is already up-to-date!\n"
     ]
    }
   ],
   "source": [
    "nltk.download('stopwords')\n",
    "\",\".join(stopwords.words(\"english\"))\n",
    "stop_words = set(stopwords.words('english'))"
   ]
  },
  {
   "cell_type": "code",
   "execution_count": 12,
   "metadata": {},
   "outputs": [],
   "source": [
    "# Define the remove_stop_words function\n",
    "def remove_stop_words(x):\n",
    "    return \" \".join([word for word in str(x).split() if word.lower() not in stop_words])\n",
    "\n",
    "# Apply the function to create a new column 'filtered_text'\n",
    "df['filtered_text'] = df['text'].apply(lambda x: remove_stop_words(x))"
   ]
  },
  {
   "cell_type": "code",
   "execution_count": 13,
   "metadata": {},
   "outputs": [
    {
     "data": {
      "text/plain": [
       "'decide eat here, aware going take 2 hours beginning end. tried multiple times, want like it! locations NJ never bad experience. food good, takes long time come out. waitstaff young, usually pleasant. many experiences spent way long waiting. usually opt another diner restaurant weekends, order done quicker.'"
      ]
     },
     "execution_count": 13,
     "metadata": {},
     "output_type": "execute_result"
    }
   ],
   "source": [
    "df['filtered_text'][0]"
   ]
  },
  {
   "cell_type": "code",
   "execution_count": 14,
   "metadata": {},
   "outputs": [
    {
     "name": "stdout",
     "output_type": "stream",
     "text": [
      "0\n"
     ]
    }
   ],
   "source": [
    "duplicates = df.duplicated().sum()\n",
    "print(duplicates)\n"
   ]
  },
  {
   "cell_type": "markdown",
   "metadata": {},
   "source": [
    "Visualizing the dataset"
   ]
  },
  {
   "cell_type": "code",
   "execution_count": 15,
   "metadata": {},
   "outputs": [
    {
     "data": {
      "image/png": "[encoded data removed]",
      "text/plain": [
       "<Figure size 1000x500 with 1 Axes>"
      ]
     },
     "metadata": {},
     "output_type": "display_data"
    }
   ],
   "source": [
    "Bar_plot = df[\"stars\"].value_counts().sort_index() \\\n",
    "    .plot(kind='bar',\n",
    "           title=\"Count of reviews by stars\",\n",
    "           figsize=(10,5))\n",
    "\n",
    "Bar_plot.set_xlabel('Review Stars')\n",
    "Bar_plot.set_ylabel('Number of reviews')\n",
    "plt.show()"
   ]
  },
  {
   "cell_type": "code",
   "execution_count": 16,
   "metadata": {},
   "outputs": [],
   "source": [
    "#Categorizing the reviews according to the stars(2 for positive, 1 for neutral, 3 for negative). \n",
    "df[\"Reviews\"] = df[\"stars\"].apply(lambda score: 2 if score >= 4 else 1 if score == 3 else 0)"
   ]
  },
  {
   "cell_type": "code",
   "execution_count": 18,
   "metadata": {},
   "outputs": [
    {
     "data": {
      "text/plain": [
       "Reviews\n",
       "2    353\n",
       "0     79\n",
       "1     68\n",
       "Name: count, dtype: int64"
      ]
     },
     "execution_count": 18,
     "metadata": {},
     "output_type": "execute_result"
    }
   ],
   "source": [
    "df[\"Reviews\"].value_counts()"
   ]
  },
  {
   "cell_type": "code",
   "execution_count": 19,
   "metadata": {},
   "outputs": [],
   "source": [
    "New_DataFrame = df[['filtered_text','Reviews']]"
   ]
  },
  {
   "cell_type": "code",
   "execution_count": 20,
   "metadata": {},
   "outputs": [
    {
     "data": {
      "image/png": "[encoded data removed]",
      "text/plain": [
       "<Figure size 1000x500 with 1 Axes>"
      ]
     },
     "metadata": {},
     "output_type": "display_data"
    }
   ],
   "source": [
    "Bar_plot = df[\"Reviews\"].value_counts().sort_index() \\\n",
    "    .plot(kind='bar',\n",
    "           title=\"Comparission of postive and negative reviews\",\n",
    "           figsize=(10,5))\n",
    "\n",
    "Bar_plot.set_xlabel('Type of the review')\n",
    "Bar_plot.set_ylabel('Number of reviews')\n",
    "plt.show()"
   ]
  },
  {
   "cell_type": "code",
   "execution_count": 21,
   "metadata": {},
   "outputs": [
    {
     "data": {
      "text/html": [
       "<div>\n",
       "<style scoped>\n",
       "    .dataframe tbody tr th:only-of-type {\n",
       "        vertical-align: middle;\n",
       "    }\n",
       "\n",
       "    .dataframe tbody tr th {\n",
       "        vertical-align: top;\n",
       "    }\n",
       "\n",
       "    .dataframe thead th {\n",
       "        text-align: right;\n",
       "    }\n",
       "</style>\n",
       "<table border=\"1\" class=\"dataframe\">\n",
       "  <thead>\n",
       "    <tr style=\"text-align: right;\">\n",
       "      <th></th>\n",
       "      <th>filtered_text</th>\n",
       "      <th>Reviews</th>\n",
       "    </tr>\n",
       "  </thead>\n",
       "  <tbody>\n",
       "    <tr>\n",
       "      <th>0</th>\n",
       "      <td>decide eat here, aware going take 2 hours begi...</td>\n",
       "      <td>1</td>\n",
       "    </tr>\n",
       "    <tr>\n",
       "      <th>1</th>\n",
       "      <td>I've taken lot spin classes years, nothing com...</td>\n",
       "      <td>2</td>\n",
       "    </tr>\n",
       "    <tr>\n",
       "      <th>2</th>\n",
       "      <td>Family diner. buffet. Eclectic assortment: lar...</td>\n",
       "      <td>1</td>\n",
       "    </tr>\n",
       "    <tr>\n",
       "      <th>3</th>\n",
       "      <td>Wow! Yummy, different, delicious. favorite lam...</td>\n",
       "      <td>2</td>\n",
       "    </tr>\n",
       "    <tr>\n",
       "      <th>4</th>\n",
       "      <td>Cute interior owner (?) gave us tour upcoming ...</td>\n",
       "      <td>2</td>\n",
       "    </tr>\n",
       "  </tbody>\n",
       "</table>\n",
       "</div>"
      ],
      "text/plain": [
       "                                       filtered_text  Reviews\n",
       "0  decide eat here, aware going take 2 hours begi...        1\n",
       "1  I've taken lot spin classes years, nothing com...        2\n",
       "2  Family diner. buffet. Eclectic assortment: lar...        1\n",
       "3  Wow! Yummy, different, delicious. favorite lam...        2\n",
       "4  Cute interior owner (?) gave us tour upcoming ...        2"
      ]
     },
     "execution_count": 21,
     "metadata": {},
     "output_type": "execute_result"
    }
   ],
   "source": [
    "New_DataFrame.head(5)"
   ]
  },
  {
   "cell_type": "markdown",
   "metadata": {},
   "source": [
    "Splitting the dataset as Train and Test"
   ]
  },
  {
   "cell_type": "code",
   "execution_count": 22,
   "metadata": {},
   "outputs": [],
   "source": [
    "# Splitting the dataset into training and testing datasets\n",
    "train_Text_Data, test_Text_Data, train_label_Data, test_labels_Data = train_test_split(New_DataFrame['filtered_text'], New_DataFrame['Reviews'], test_size=0.2,stratify=New_DataFrame[\"Reviews\"], random_state=1)"
   ]
  },
  {
   "cell_type": "code",
   "execution_count": 23,
   "metadata": {},
   "outputs": [
    {
     "name": "stdout",
     "output_type": "stream",
     "text": [
      "400\n",
      "100\n"
     ]
    }
   ],
   "source": [
    "print(train_Text_Data.size)\n",
    "print(test_labels_Data.size)"
   ]
  },
  {
   "cell_type": "code",
   "execution_count": 24,
   "metadata": {},
   "outputs": [],
   "source": [
    "#Loading the Pre-Trained model with the tokenizer\n",
    "model_Name = \"nlptown/bert-base-multilingual-uncased-sentiment\"\n",
    "model = AutoModelForSequenceClassification.from_pretrained(model_Name)\n",
    "tokenizer = AutoTokenizer.from_pretrained(model_Name)"
   ]
  },
  {
   "cell_type": "code",
   "execution_count": 25,
   "metadata": {},
   "outputs": [],
   "source": [
    "# Tokenizing the input text data\n",
    "train_text_encodings = tokenizer(train_Text_Data.tolist(), truncation=True, padding=True)\n",
    "test_text_encodings = tokenizer(test_Text_Data.tolist(), truncation=True, padding=True)"
   ]
  },
  {
   "cell_type": "code",
   "execution_count": 26,
   "metadata": {},
   "outputs": [],
   "source": [
    "# Convert labels and encodings in dataset objects\n",
    "train_Dataset_Object = TensorDataset(torch.tensor(train_text_encodings['input_ids']),\n",
    "                              torch.tensor(train_text_encodings['attention_mask']),\n",
    "                              torch.tensor(train_label_Data.tolist()))\n",
    "test_Dataset_Object = TensorDataset(torch.tensor(test_text_encodings['input_ids']),\n",
    "                             torch.tensor(test_text_encodings['attention_mask']),\n",
    "                             torch.tensor(test_labels_Data.tolist()))"
   ]
  },
  {
   "cell_type": "code",
   "execution_count": 27,
   "metadata": {},
   "outputs": [],
   "source": [
    "# Creating the train loaders using the dataset objects\n",
    "train_Data_Loader = DataLoader(train_Dataset_Object, batch_size=4, shuffle=True)\n",
    "test_Data_Loader = DataLoader(test_Dataset_Object, batch_size=4, shuffle=False)"
   ]
  },
  {
   "cell_type": "code",
   "execution_count": 28,
   "metadata": {},
   "outputs": [
    {
     "name": "stdout",
     "output_type": "stream",
     "text": [
      "cpu\n"
     ]
    }
   ],
   "source": [
    "# Setting the device for GPU or CPU\n",
    "device = torch.device('cuda' if torch.cuda.is_available() else 'cpu')\n",
    "model.to(device)\n",
    "print(device)"
   ]
  },
  {
   "cell_type": "code",
   "execution_count": 29,
   "metadata": {},
   "outputs": [],
   "source": [
    "# Training hyperparameters\n",
    "epochs = 1\n",
    "optimizer = torch.optim.AdamW(model.parameters(),\n",
    "                              weight_decay=0.01,\n",
    "                              lr=2e-5)"
   ]
  },
  {
   "cell_type": "code",
   "execution_count": 30,
   "metadata": {},
   "outputs": [
    {
     "name": "stderr",
     "output_type": "stream",
     "text": [
      "Epoch 1/1: 100%|██████████| 100/100 [15:54<00:00,  9.54s/it, Training Loss=0.637]"
     ]
    },
    {
     "name": "stdout",
     "output_type": "stream",
     "text": [
      "Total Training Time for Epoch 1: 954.21 minutes\n"
     ]
    },
    {
     "name": "stderr",
     "output_type": "stream",
     "text": [
      "\n"
     ]
    }
   ],
   "source": [
    "# Training loop\n",
    "train_losses = []\n",
    "start_time = time.time()\n",
    "\n",
    "for epoch in range(epochs):\n",
    "    model.train()\n",
    "    epoch_loss = 0\n",
    "\n",
    "    # Creating a progress bar for batches\n",
    "    progress_bar = tqdm(enumerate(train_Data_Loader, 1), total=len(train_Data_Loader), desc=f'Epoch {epoch + 1}/{epochs}')\n",
    "\n",
    "    for batch_idx, batch in progress_bar:\n",
    "        input_ids, attention_mask, Reviews = map(lambda x: x.to(device), batch)\n",
    "\n",
    "        optimizer.zero_grad()\n",
    "        outputs = model(input_ids, attention_mask=attention_mask, labels=Reviews)\n",
    "        loss = outputs.loss\n",
    "        loss.backward()\n",
    "        optimizer.step()\n",
    "\n",
    "        epoch_loss += loss.item()\n",
    "\n",
    "        # Calculating average training loss for each epoch\n",
    "        avg_epoch_loss = epoch_loss / batch_idx\n",
    "        train_losses.append(avg_epoch_loss)\n",
    "\n",
    "        progress_bar.set_postfix({'Training Loss': avg_epoch_loss})\n",
    "\n",
    "    # Calculate and display the total training time at the end of each epoch\n",
    "    elapsed_Total_Time = time.time() - start_time\n",
    "    total_minutes = elapsed_Total_Time / 60\n",
    "    print(f'Total Training Time for Epoch {epoch + 1}: {elapsed_Total_Time:.2f} minutes')\n"
   ]
  },
  {
   "cell_type": "code",
   "execution_count": 31,
   "metadata": {},
   "outputs": [
    {
     "name": "stdout",
     "output_type": "stream",
     "text": [
      "Model saved......\n"
     ]
    }
   ],
   "source": [
    "# Save the trained model to the local pc\n",
    "model.save_pretrained('Models')\n",
    "tokenizer.save_pretrained('Tokens')\n",
    "\n",
    "print(\"Model saved......\")"
   ]
  },
  {
   "cell_type": "markdown",
   "metadata": {},
   "source": [
    "Loading the model to do predictions"
   ]
  },
  {
   "cell_type": "code",
   "execution_count": 32,
   "metadata": {},
   "outputs": [
    {
     "name": "stdout",
     "output_type": "stream",
     "text": [
      "Using device: cpu\n"
     ]
    }
   ],
   "source": [
    "# Loading the saved fine-tuned model to get predictions\n",
    "tokenizer = AutoTokenizer.from_pretrained('Tokens')\n",
    "model = AutoModelForSequenceClassification.from_pretrained('Models')\n",
    "\n",
    "# Setting the device for GPU or CPU\n",
    "device = torch.device('cuda' if torch.cuda.is_available() else 'cpu')\n",
    "model.to(device)\n",
    "print(f\"Using device: {device}\")\n",
    "\n",
    "def get_predictions(review):\n",
    "    # Tokenizing the user review\n",
    "    input_Data = tokenizer(review,truncation=True, padding=True,return_tensors='pt',)\n",
    "    input_ids = input_Data['input_ids'].to(device)\n",
    "    attention_mask = input_Data['attention_mask'].to(device)\n",
    "\n",
    "    # Getting the model prediction according to the user review\n",
    "    with torch.no_grad():\n",
    "        Prediction = model(input_ids, attention_mask=attention_mask)\n",
    "\n",
    "    # Getting the predicted labels\n",
    "    logits = Prediction.logits\n",
    "    predicted_class = torch.argmax(logits, dim=1).item()\n",
    "\n",
    "    return predicted_class\n"
   ]
  },
  {
   "cell_type": "markdown",
   "metadata": {},
   "source": [
    "Testing the model"
   ]
  },
  {
   "cell_type": "code",
   "execution_count": 33,
   "metadata": {},
   "outputs": [],
   "source": [
    "#Getting user reviews\n",
    "user_Review = \"Wow that is delicious\""
   ]
  },
  {
   "cell_type": "code",
   "execution_count": 34,
   "metadata": {},
   "outputs": [
    {
     "name": "stdout",
     "output_type": "stream",
     "text": [
      "Positive Feedback.\n"
     ]
    }
   ],
   "source": [
    "review_Prediction = get_predictions(user_Review)\n",
    "if review_Prediction == 2:\n",
    "    print(\"Positive Feedback.\")\n",
    "elif review_Prediction == 0:\n",
    "    print(\"Negative Feedback.\")\n",
    "else:\n",
    "    print(\"Neutral Feedback\")"
   ]
  },
  {
   "cell_type": "markdown",
   "metadata": {},
   "source": [
    "Evaluations of the model"
   ]
  },
  {
   "cell_type": "code",
   "execution_count": 35,
   "metadata": {},
   "outputs": [],
   "source": [
    "# Evaluating the model\n",
    "model.eval()\n",
    "review_Predictions = []\n",
    "ground_Truth = []\n",
    "\n",
    "with torch.no_grad():\n",
    "    for batch in test_Data_Loader:\n",
    "        input_ids, attention_mask, Reviews = map(lambda x: x.to(device), batch)\n",
    "        prediction_Results = model(input_ids, attention_mask=attention_mask)\n",
    "        logits = prediction_Results.logits\n",
    "        review_Predictions.extend(torch.argmax(logits, dim=1).cpu().numpy())\n",
    "        ground_Truth.extend(Reviews.cpu().numpy())\n"
   ]
  },
  {
   "cell_type": "code",
   "execution_count": 36,
   "metadata": {},
   "outputs": [
    {
     "name": "stdout",
     "output_type": "stream",
     "text": [
      "The test data accuracy is : 0.79\n"
     ]
    }
   ],
   "source": [
    "test_Data_Accuracy = accuracy_score(ground_Truth, review_Predictions)\n",
    "print(f\"The test data accuracy is : {test_Data_Accuracy}\")"
   ]
  },
  {
   "cell_type": "code",
   "execution_count": 37,
   "metadata": {},
   "outputs": [],
   "source": [
    "# Calculating the cunfusion matrix\n",
    "confusion = confusion_matrix(ground_Truth, review_Predictions)"
   ]
  },
  {
   "cell_type": "code",
   "execution_count": 40,
   "metadata": {},
   "outputs": [
    {
     "data": {
      "image/png": "[encoded data removed]",
      "text/plain": [
       "<Figure size 800x600 with 2 Axes>"
      ]
     },
     "metadata": {},
     "output_type": "display_data"
    }
   ],
   "source": [
    "# PLotting the confusion matrix in a heat map\n",
    "plt.figure(figsize=(8, 6))\n",
    "sns.heatmap(confusion, annot=True, fmt='d', cmap='viridis', xticklabels=['Negative Reviews',\"Neutral Reviews\", 'Positive Reviews'],yticklabels=['Negative Reviews',\"Neutral Reviews\", 'Positive Reviews'])\n",
    "plt.title('Model Results')\n",
    "plt.xlabel('Predicted Reviews')\n",
    "plt.ylabel('Ground Truth')\n",
    "\n",
    "plt.show()"
   ]
  },
  {
   "cell_type": "code",
   "execution_count": 39,
   "metadata": {},
   "outputs": [
    {
     "name": "stdout",
     "output_type": "stream",
     "text": [
      "                  precision    recall  f1-score   support\n",
      "\n",
      "Negative reviews       0.71      0.94      0.81        16\n",
      " Neutral Reviews       0.33      0.46      0.39        13\n",
      " Postive reviews       0.95      0.82      0.88        71\n",
      "\n",
      "        accuracy                           0.79       100\n",
      "       macro avg       0.67      0.74      0.69       100\n",
      "    weighted avg       0.83      0.79      0.80       100\n"
     ]
    }
   ],
   "source": [
    "print(classification_report(ground_Truth, review_Predictions,target_names=['Negative reviews','Neutral Reviews', 'Postive reviews']))"
   ]
  },
  {
   "cell_type": "code",
   "execution_count": null,
   "metadata": {},
   "outputs": [],
   "source": []
  }
 ],
 "metadata": {
  "kernelspec": {
   "display_name": "Sentiment",
   "language": "python",
   "name": "python3"
  },
  "language_info": {
   "codemirror_mode": {
    "name": "ipython",
    "version": 3
   },
   "file_extension": ".py",
   "mimetype": "text/x-python",
   "name": "python",
   "nbconvert_exporter": "python",
   "pygments_lexer": "ipython3",
   "version": "3.8.18"
  }
 },
 "nbformat": 4,
 "nbformat_minor": 2
}
